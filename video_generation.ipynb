{
 "cells": [
  {
   "cell_type": "code",
   "execution_count": 1,
   "metadata": {},
   "outputs": [],
   "source": [
    "!pip install -U -q twelvelabs\n",
    "from twelvelabs import TwelveLabs\n",
    "from twelvelabs.models.task import Task"
   ]
  },
  {
   "cell_type": "code",
   "execution_count": 2,
   "metadata": {},
   "outputs": [],
   "source": [
    "import os"
   ]
  },
  {
   "cell_type": "code",
   "execution_count": 3,
   "metadata": {},
   "outputs": [],
   "source": [
    "os.environ[\"TL_API_KEY\"] = \"tlk_241Z16H2R70KP22J4CV3K22801XG\""
   ]
  },
  {
   "cell_type": "code",
   "execution_count": 5,
   "metadata": {},
   "outputs": [],
   "source": [
    "api_key = os.environ[\"TL_API_KEY\"]\n",
    "client = TwelveLabs(api_key=api_key)\n",
    "\n",
    "index_id = \"66f1b1c8163dbc55ba3bb1b6\""
   ]
  },
  {
   "cell_type": "markdown",
   "metadata": {},
   "source": [
    "# Search"
   ]
  },
  {
   "cell_type": "code",
   "execution_count": 7,
   "metadata": {},
   "outputs": [],
   "source": [
    "query = \"Athlete winning gold medal in swimming\"\n",
    "results = client.search.query(index_id=index_id, query=query, options=[\"visual\", \"conversation\"])"
   ]
  },
  {
   "cell_type": "code",
   "execution_count": 9,
   "metadata": {},
   "outputs": [
    {
     "name": "stdout",
     "output_type": "stream",
     "text": [
      " video_id=66f1b1f14e302ab9f2e7ef22 score=84.57 start=1408.9790937500002 end=1417.4990937500002 confidence=high\n",
      " video_id=66f1b1e74e302ab9f2e7ef1f score=83.08 start=10.33534375 end=18.41534375 confidence=high\n",
      " video_id=66f1b1f14e302ab9f2e7ef22 score=82.33 start=1149.86909375 end=1153.2090937500002 confidence=medium\n",
      " video_id=66f1b1eeae10e5f05781c7b0 score=79.69 start=624.41534375 end=637.8953437499999 confidence=medium\n",
      " video_id=66f1b1eeae10e5f05781c7b0 score=78.46 start=71.78534375000001 end=82.88534375 confidence=medium\n",
      " video_id=66f1b1eeae10e5f05781c7b0 score=77.55 start=45.32534375 end=57.58534375 confidence=medium\n",
      " video_id=66f1b1e24e302ab9f2e7ef1e score=74.74 start=12.58 end=18.88 confidence=medium\n",
      " video_id=66f1b1f14e302ab9f2e7ef22 score=73.67 start=1424.933319084 end=1444.33331889 confidence=low\n",
      " video_id=66f1b1e8ae10e5f05781c7ae score=73.15 start=400.633329327 end=406.299995937 confidence=low\n",
      " video_id=66f1b1e24e302ab9f2e7ef1e score=72.23 start=31.38 end=41.1 confidence=low\n",
      " video_id=66f1b1e9ae10e5f05781c7af score=66.98 start=76.90284375 end=87.02284375 confidence=low\n",
      " video_id=66f1b1e8ae10e5f05781c7ae score=66.72 start=208.766664579 end=214.766664519 confidence=low\n",
      " video_id=66f1b1f14e302ab9f2e7ef22 score=66.7 start=245.766664209 end=270.566663961 confidence=low\n",
      " video_id=66f1b1eeae10e5f05781c7b0 score=66.59 start=843.833324895 end=852.99999147 confidence=low\n",
      " video_id=66f1b1e5ae10e5f05781c7ad score=66.58 start=33.61666633 end=38.766666279 confidence=low\n",
      " video_id=66f1b1eeae10e5f05781c7b0 score=66.58 start=101.199998988 end=114.516665521 confidence=low\n",
      " video_id=66f1b1e5ae10e5f05781c7ad score=66.4 start=146.099998539 end=154.499998455 confidence=low\n",
      " video_id=66f1b1e5ae10e5f05781c7ad score=66.34 start=398.149996017 end=415.199995848 confidence=low\n",
      " video_id=66f1b1e74e302ab9f2e7ef1f score=66.17 start=19.575343750000002 end=28.93534375 confidence=low\n",
      " video_id=66f1b1eeae10e5f05781c7b0 score=65.86 start=90.099999099 end=95.633332377 confidence=low\n",
      " video_id=66f1b1e84e302ab9f2e7ef20 score=65.81 start=21.42 end=27.81 confidence=low\n",
      " video_id=66f1b1eeae10e5f05781c7b0 score=65.78 start=766.466659002 end=772.199992278 confidence=low\n",
      " video_id=66f1b1eeae10e5f05781c7b0 score=65.5 start=10.766666559 end=19.399999806 confidence=low\n",
      " video_id=66f1b1e1ae10e5f05781c7a9 score=65.36 start=159.966665067 end=168.033331653 confidence=low\n",
      " video_id=66f1b1eeae10e5f05781c7b0 score=65.23 start=537.433327959 end=547.199994528 confidence=low\n",
      " video_id=66f1b1eeae10e5f05781c7b0 score=65.22 start=276.299997237 end=281.966663847 confidence=low\n",
      " video_id=66f1b1eeae10e5f05781c7b0 score=65.16 start=694.566659721 end=700.299992997 confidence=low\n",
      " video_id=66f1b1e8ae10e5f05781c7ae score=64.99 start=338.349996616 end=348.066663186 confidence=low\n",
      " video_id=66f1b1f14e302ab9f2e7ef22 score=64.84 start=83.533332498 end=92.99999907 confidence=low\n",
      " video_id=66f1b1eeae10e5f05781c7b0 score=64.73 start=735.199992648 end=743.599992564 confidence=low\n"
     ]
    }
   ],
   "source": [
    "# Utility function to print a specific page\n",
    "def print_page(page):\n",
    "  for clip in page:\n",
    "    print(\n",
    "        f\" video_id={clip.video_id} score={clip.score} start={clip.start} end={clip.end} confidence={clip.confidence}\"\n",
    "    )\n",
    "print_page(results.data)\n",
    "while True:\n",
    "    try:\n",
    "        print_page(next(results))\n",
    "    except StopIteration:\n",
    "        break"
   ]
  },
  {
   "cell_type": "markdown",
   "metadata": {},
   "source": [
    "# Generate"
   ]
  },
  {
   "cell_type": "code",
   "execution_count": 13,
   "metadata": {},
   "outputs": [
    {
     "name": "stdout",
     "output_type": "stream",
     "text": [
      "Generating text for 66f1b1f14e302ab9f2e7ef22\n",
      "Video(id='66f1b1f14e302ab9f2e7ef22', created_at='2024-09-23T18:22:41Z', updated_at=None, metadata=VideoMetadata(filename='Women’s All-Around Final Highlights [F1xnR4umK6U].mp4', duration=1514.9200001, fps=50.0, width=1280, height=720, size=129448890, audio_channel=2, audio_length_ns=1515010000000, audio_sample_rate=44100, audio_stream_id='0x2', audio_stream_idx=1, engine_ids=['pegasus1.1', 'marengo2.6'], video_length_ns=1514920000100, video_stream_id='0x1', video_stream_idx=0), hls=None, source=None, indexed_at='2024-09-23T18:36:06Z')\n",
      "Generating text for 66f1b1eeae10e5f05781c7b0\n",
      "Video(id='66f1b1eeae10e5f05781c7b0', created_at='2024-09-23T18:22:38Z', updated_at=None, metadata=VideoMetadata(filename='The highest scores in Olympic gymnastics history： Biles, Maroney, Liukin, and more! ｜ NBC Sports [vQopnwLFdXc].mp4', duration=859.8923671, fps=29.97002997002997, width=1280, height=720, size=96341182, audio_channel=2, audio_length_ns=860021000000, audio_sample_rate=44100, audio_stream_id='0x2', audio_stream_idx=1, engine_ids=['marengo2.6', 'pegasus1.1'], video_length_ns=859892367100, video_stream_id='0x1', video_stream_idx=0), hls=None, source=None, indexed_at='2024-09-23T18:29:41Z')\n",
      "Generating text for 66f1b1e94e302ab9f2e7ef21\n",
      "Video(id='66f1b1e94e302ab9f2e7ef21', created_at='2024-09-23T18:22:33Z', updated_at=None, metadata=VideoMetadata(filename='Turkish sharpshooter Yusuf Dikec wins silver at Paris Olympics with minimal gear [YGFargdEXFs].mp4', duration=56.9333331, fps=30.0, width=720, height=900, size=6180250, audio_channel=2, audio_length_ns=57075000000, audio_sample_rate=44100, audio_stream_id='0x2', audio_stream_idx=1, engine_ids=['pegasus1.1', 'marengo2.6'], video_length_ns=56933333100, video_stream_id='0x1', video_stream_idx=0), hls=None, source=None, indexed_at='2024-09-23T18:27:58Z')\n",
      "Generating text for 66f1b1e9ae10e5f05781c7af\n",
      "Video(id='66f1b1e9ae10e5f05781c7af', created_at='2024-09-23T18:22:33Z', updated_at=None, metadata=VideoMetadata(filename='Viral Turkish shooter reveals truth behind Olympics moment [NoEAyqwT8-4].mp4', duration=88.2000001, fps=25.0, width=1280, height=720, size=3367411, audio_channel=2, audio_length_ns=88352000000, audio_sample_rate=44100, audio_stream_id='0x2', audio_stream_idx=1, engine_ids=['pegasus1.1', 'marengo2.6'], video_length_ns=88200000100, video_stream_id='0x1', video_stream_idx=0), hls=None, source=None, indexed_at='2024-09-23T18:27:31Z')\n",
      "Generating text for 66f1b1e84e302ab9f2e7ef20\n",
      "Video(id='66f1b1e84e302ab9f2e7ef20', created_at='2024-09-23T18:22:32Z', updated_at=None, metadata=VideoMetadata(filename='Turkey Shooter Shows Up With No Special Equipment, Wins Silver, Reveals Himself As Hitman？! [C-nJH6bjo2c].mp4', duration=227.0101171, fps=59.94005994005994, width=1280, height=720, size=16126972, audio_channel=2, audio_length_ns=227092000000, audio_sample_rate=44100, audio_stream_id='0x2', audio_stream_idx=1, engine_ids=['pegasus1.1', 'marengo2.6'], video_length_ns=227010117100, video_stream_id='0x1', video_stream_idx=0), hls=None, source=None, indexed_at='2024-09-23T18:27:35Z')\n",
      "Generating text for 66f1b1e8ae10e5f05781c7ae\n",
      "Video(id='66f1b1e8ae10e5f05781c7ae', created_at='2024-09-23T18:22:32Z', updated_at=None, metadata=VideoMetadata(filename='Simone Biles REGAINS women’s gymnastics individual all-around gold medal ｜ Paris Olympics [HCPCwstmObY].mp4', duration=424.9912331, fps=29.97002997002997, width=1280, height=720, size=42288299, audio_channel=2, audio_length_ns=425111000000, audio_sample_rate=44100, audio_stream_id='0x2', audio_stream_idx=1, engine_ids=['pegasus1.1', 'marengo2.6'], video_length_ns=424991233100, video_stream_id='0x1', video_stream_idx=0), hls=None, source=None, indexed_at='2024-09-23T18:27:56Z')\n",
      "Generating text for 66f1b1e74e302ab9f2e7ef1f\n",
      "Video(id='66f1b1e74e302ab9f2e7ef1f', created_at='2024-09-23T18:22:31Z', updated_at=None, metadata=VideoMetadata(filename='Simone Biles puts a cap on her Paris Olympics with final performance day ｜ NBC Sports [MuHqzpfDlyY].mp4', duration=382.6155671, fps=29.97002997002997, width=1280, height=720, size=38309420, audio_channel=2, audio_length_ns=382735000000, audio_sample_rate=44100, audio_stream_id='0x2', audio_stream_idx=1, engine_ids=['marengo2.6', 'pegasus1.1'], video_length_ns=382615567100, video_stream_id='0x1', video_stream_idx=0), hls=None, source=None, indexed_at='2024-09-23T18:27:28Z')\n",
      "Generating text for 66f1b1e5ae10e5f05781c7ad\n",
      "Video(id='66f1b1e5ae10e5f05781c7ad', created_at='2024-09-23T18:22:29Z', updated_at=None, metadata=VideoMetadata(filename='Mondo Duplantis breaks his own WORLD RECORD for gold on Olympic stage in Paris ｜ NBC Sports [p_f54eJOhd4].mp4', duration=420.2531671, fps=29.97002997002997, width=1280, height=720, size=57934406, audio_channel=2, audio_length_ns=420375000000, audio_sample_rate=44100, audio_stream_id='0x2', audio_stream_idx=1, engine_ids=['pegasus1.1', 'marengo2.6'], video_length_ns=420253167100, video_stream_id='0x1', video_stream_idx=0), hls=None, source=None, indexed_at='2024-09-23T18:26:53Z')\n",
      "Generating text for 66f1b1e4ae10e5f05781c7ac\n",
      "Video(id='66f1b1e4ae10e5f05781c7ac', created_at='2024-09-23T18:22:28Z', updated_at=None, metadata=VideoMetadata(filename=\"Swedish announcers have ELECTRIC call of Mondo Duplantis' pole vault world record ｜ Paris Olympics [6zubkDE4c8E].mp4\", duration=77.8444331, fps=29.97002997002997, width=1280, height=720, size=11925873, audio_channel=2, audio_length_ns=77973000000, audio_sample_rate=44100, audio_stream_id='0x2', audio_stream_idx=1, engine_ids=['pegasus1.1', 'marengo2.6'], video_length_ns=77844433100, video_stream_id='0x1', video_stream_idx=0), hls=None, source=None, indexed_at='2024-09-23T18:26:08Z')\n",
      "Generating text for 66f1b1e24e302ab9f2e7ef1e\n",
      "Video(id='66f1b1e24e302ab9f2e7ef1e', created_at='2024-09-23T18:22:26Z', updated_at=None, metadata=VideoMetadata(filename='Is The Olympic Shooter From Turkey A Hero Or Assassin？ We Might Never Know [4UQnZp5JnMc].mp4', duration=480.9471331, fps=29.97002997002997, width=1280, height=720, size=24658705, audio_channel=2, audio_length_ns=481072000000, audio_sample_rate=44100, audio_stream_id='0x2', audio_stream_idx=1, engine_ids=['marengo2.6', 'pegasus1.1'], video_length_ns=480947133100, video_stream_id='0x1', video_stream_idx=0), hls=None, source=None, indexed_at='2024-09-23T18:25:36Z')\n"
     ]
    }
   ],
   "source": [
    "videos = client.index.video.list(index_id)\n",
    "\n",
    "for video in videos:\n",
    "    print(f\"Generating text for {video.id}\")\n",
    "    print(video)\n",
    "\n",
    "    # res = client.generate.gist(video_id=video.id, types=[\"title\", \"topic\", \"hashtag\"])\n",
    "    # print(f\"Title: {res.title}\\nTopics={res.topics}\\nHashtags={res.hashtags}\")\n",
    "\n",
    "    # res = client.generate.summarize(video_id=video.id, type=\"summary\")\n",
    "    # print(f\"Summary: {res.summary}\")\n",
    "\n",
    "    # print(\"Chapters:\")\n",
    "    # res = client.generate.summarize(video_id=video.id, type=\"chapter\")\n",
    "    # for chapter in res.chapters:\n",
    "    #     print(\n",
    "    #         f\"  chapter_number={chapter.chapter_number} chapter_title={chapter.chapter_title} chapter_summary={chapter.chapter_summary} start={chapter.start} end={chapter.end}\"\n",
    "    #     )\n",
    "\n",
    "    # print(\"Highlights:\")\n",
    "    # res = client.generate.summarize(video_id=video.id, type=\"highlight\")\n",
    "    # for highlight in res.highlights:\n",
    "    #     print(\n",
    "    #         f\"  Highlight={highlight.highlight} start={highlight.start} end={highlight.end}\"\n",
    "    #     )\n",
    "\n",
    "    \n",
    "    # res = client.generate.text(video_id=video.id, prompt=\"Based on this video, I want to generate five keywords for SEO (Search Engine Optimization).\")\n",
    "    # print(f\"Open-ended Text: {res.data}\")"
   ]
  },
  {
   "cell_type": "code",
   "execution_count": null,
   "metadata": {},
   "outputs": [],
   "source": []
  }
 ],
 "metadata": {
  "kernelspec": {
   "display_name": "DL",
   "language": "python",
   "name": "python3"
  },
  "language_info": {
   "codemirror_mode": {
    "name": "ipython",
    "version": 3
   },
   "file_extension": ".py",
   "mimetype": "text/x-python",
   "name": "python",
   "nbconvert_exporter": "python",
   "pygments_lexer": "ipython3",
   "version": "3.8.19"
  }
 },
 "nbformat": 4,
 "nbformat_minor": 2
}
